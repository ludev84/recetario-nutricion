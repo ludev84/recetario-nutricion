{
 "cells": [
  {
   "cell_type": "markdown",
   "id": "69b8f2fd-cf82-4403-b51b-227a516513b7",
   "metadata": {},
   "source": [
    "\n",
    "# Image-OCR-Scan\n",
    "\n",
    "Este script usa el programa tesseract y la librería pytesseract para extraer el texto de una imagen e imprimirlo en la consola.\n",
    "\n",
    "## Instalar por anaconda (recomendado):\n",
    "\n",
    "Es recomendable usar un gestor de paquete como anaconda o miniconda para descargar los programas en un entorno virtual.\n",
    "\n",
    "* https://anaconda.org/conda-forge/tesseract\n",
    "\n",
    "* https://anaconda.org/conda-forge/pytesseract\n",
    "\n",
    "## Instalar de manera global (no recomendado)\n",
    "\n",
    "* sudo apt-get install tesseract-ocr.\n",
    "\n",
    "* sudo apt-get install tesseract-ocr-spa\n",
    "\n",
    "* pip install pytesseract\n",
    "\n",
    "## Listar lenguajes disponibles:\n",
    "tesseract --list-langs\n",
    "\n",
    "Usar where tesseract (Windows) o where tesseract (GNU/Linux) para determinar ubicacion del programa"
   ]
  },
  {
   "cell_type": "code",
   "execution_count": 1,
   "id": "0a5160c3-e8f7-4f13-9615-22a5c8c418bc",
   "metadata": {},
   "outputs": [],
   "source": [
    "from PIL import Image\n",
    "import pytesseract\n",
    "import os"
   ]
  },
  {
   "cell_type": "code",
   "execution_count": 2,
   "id": "94008317-3eca-4053-aa85-bd04a7279bc3",
   "metadata": {},
   "outputs": [],
   "source": [
    "# Ubicacion del programa tesseract\n",
    "pytesseract.pytesseract.tesseract_cmd = r'/home/luis/miniconda3/envs/tesseract/bin/tesseract'"
   ]
  },
  {
   "cell_type": "code",
   "execution_count": 5,
   "id": "fe7dc9f0-b88e-464f-a1f7-65dcc1a0da5d",
   "metadata": {
    "tags": []
   },
   "outputs": [
    {
     "name": "stdout",
     "output_type": "stream",
     "text": [
      "Número total de imágenes:  2 \n",
      "\n",
      "\n",
      "================================================================\n",
      "Imagen no. 1: gelatina-1.jpg\n",
      "================================================================\n",
      " \n",
      "\n",
      "Gelatina de Pitahaya\n",
      "\n",
      "Dificultad: facil\n",
      "Tiempo de preparación: 20 min\n",
      "Comensales: 4 personas\n",
      "\n",
      "Porción: 1 gelatina\n",
      "\f",
      "\n",
      "================================================================\n",
      "Imagen no. 2: gelatina-2.jpg\n",
      "================================================================\n",
      "Ingredientes\n",
      "\n",
      "1 taza de pulpa de pitahaya\n",
      "2 tazas de agua\n",
      "\n",
      "1 sobre de gelatina sin sabor\n",
      "1 frasco de colorante rojo\n",
      "\n",
      "1 kiwi para decorar\n",
      "\n",
      "Instrucciones\n",
      "\n",
      "1. Hierve una taza de agua y disuelve el sobre de gelatina\n",
      "sin sabor.\n",
      "\n",
      "2. Agrega la pulpa de pitahaya, otra taza de agua fría e\n",
      "incorpora algunas gotas de colorante rojo. Mezcla hasta\n",
      "que tenga un color rosado.\n",
      "\n",
      "3. Vacía la mezcla en los moldes para gelatina y refrigera\n",
      "por una noche.\n",
      "\n",
      "4. Sirve sobre pequeños platos y decora con unos trozos\n",
      "pequeños de kiwi.\n",
      "\f",
      "\n"
     ]
    }
   ],
   "source": [
    "# Imprimir el texto de varias imágenes en un directorio\n",
    "\n",
    "# dirImages = r'./single-images'\n",
    "dirImages = r'./split-images'                # Rutas de los directorios con imágenes\n",
    "\n",
    "# Cantidad de imágenes en cada directorio para iterar en el sig ciclo for\n",
    "dirImagesLen = len([name for name in os.scandir(dirImages) if os.path.isfile(name)])\n",
    "\n",
    "print('Número total de imágenes: ', dirImagesLen, '\\n\\n')\n",
    "\n",
    "# Usar scandir() para enlistar lor archivos de imágenes\n",
    "for imagen, iterator in zip(os.scandir(dirImages), range(1, dirImagesLen + 1)):\n",
    "    print('================================================================')\n",
    "    print(f'Imagen no. {iterator}: {os.path.relpath(imagen.path, dirImages)}')\n",
    "    print('================================================================')\n",
    "    \n",
    "    # Imprimir el texto de la imagen\n",
    "    receta = Image.open(imagen.path)\n",
    "    print(pytesseract.image_to_string(receta, lang='spa'))"
   ]
  }
 ],
 "metadata": {
  "kernelspec": {
   "display_name": "Python 3",
   "language": "python",
   "name": "python3"
  },
  "language_info": {
   "codemirror_mode": {
    "name": "ipython",
    "version": 3
   },
   "file_extension": ".py",
   "mimetype": "text/x-python",
   "name": "python",
   "nbconvert_exporter": "python",
   "pygments_lexer": "ipython3",
   "version": "3.8.10"
  }
 },
 "nbformat": 4,
 "nbformat_minor": 5
}
